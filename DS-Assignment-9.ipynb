{
 "cells": [
  {
   "cell_type": "markdown",
   "id": "a62c5393",
   "metadata": {},
   "source": [
    "#### Question 2\n",
    "\n",
    "Given the information you have received in the course about the Merge sort algorithm, implement a function that uses it. The function needs only to accept the array to be sorted as parameter. The function returns the sorted array. The original array is left untouched.\n",
    "\n",
    "Given an array like: [6, 8, 5, 1, 2], the sorted array would be: [1, 2, 5, 6, 8]"
   ]
  },
  {
   "cell_type": "code",
   "execution_count": 4,
   "id": "e172fb62-3203-46e5-a760-3b0ddc75f198",
   "metadata": {},
   "outputs": [
    {
     "name": "stdout",
     "output_type": "stream",
     "text": [
      "[1, 2, 5, 6, 8]\n",
      "[6, 8, 5, 1, 2]\n"
     ]
    }
   ],
   "source": [
    "def merge_sort(array):\n",
    "    if len(array) <= 1:\n",
    "        return array\n",
    "    mid = len(array) // 2\n",
    "    left_half = merge_sort(array[:mid])\n",
    "    right_half = merge_sort(array[mid:])\n",
    "\n",
    "    return merge(left_half, right_half)\n",
    "\n",
    "def merge(left, right):\n",
    "    sorted_array = []\n",
    "    i = j = 0\n",
    "\n",
    "    while i < len(left) and j < len(right):\n",
    "        if left[i] < right[j]:\n",
    "            sorted_array.append(left[i])\n",
    "            i += 1\n",
    "        else:\n",
    "            sorted_array.append(right[j])\n",
    "            j += 1\n",
    "        pass  \n",
    "\n",
    "    \n",
    "    sorted_array.extend(left[i:])\n",
    "    sorted_array.extend(right[j:])\n",
    "    pass  \n",
    "\n",
    "    return sorted_array\n",
    "\n",
    "array = [6, 8, 5, 1, 2]\n",
    "sorted_array = merge_sort(array)\n",
    "print(sorted_array)  # Output: [1, 2, 5, 6, 8]\n",
    "print(array)  # Original array is unchanged: [6, 8, 5, 1, 2]\n"
   ]
  },
  {
   "cell_type": "code",
   "execution_count": null,
   "id": "b77a1a6b-94e3-43b4-bfac-7bc85920e087",
   "metadata": {},
   "outputs": [],
   "source": []
  }
 ],
 "metadata": {
  "kernelspec": {
   "display_name": "Python 3 (ipykernel)",
   "language": "python",
   "name": "python3"
  },
  "language_info": {
   "codemirror_mode": {
    "name": "ipython",
    "version": 3
   },
   "file_extension": ".py",
   "mimetype": "text/x-python",
   "name": "python",
   "nbconvert_exporter": "python",
   "pygments_lexer": "ipython3",
   "version": "3.12.5"
  }
 },
 "nbformat": 4,
 "nbformat_minor": 5
}
